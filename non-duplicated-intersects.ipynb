{
 "cells": [
  {
   "cell_type": "markdown",
   "metadata": {},
   "source": [
    "--------------------------------------------\n",
    "**All information in ths notebook is licensed under the BSD 3-Clause \"New\" or \"Revised\" License. The license is found [here](https://github.com/jGaboardi/non-duplicated-intersects/blob/master/LICENSE).**\n",
    "\n",
    "**If any part of this notebook is used in your research, please cite with the reference found in [README.md](https://github.com/jGaboardi/non-duplicated-intersects/blob/master/README.md#bibtex-citation).**\n",
    "\n",
    "--------------------------------------------\n",
    "# Non-duplicated intersects\n",
    "## Demonstrating an enhanced intersect operation with [sjoin in GeoPandas](http://geopandas.org/reference/geopandas.sjoin.html)\n",
    "### Author: James D. Gaboardi jgaboardi@gmail.com\n",
    "-----------------------------------\n",
    "### This notebook demonstrates the strengths of combining the concepts of `within` and `intersects` for a non-duplicated `intersects` version of spatial join. This method can be thought of as \"point-associated-with-polygon,\" because it captures the spatial relationship of points contained within a polygon **and** touching the exterior of the polygon, **while** preserving the cardinality of the original point set, $|P| = |P^\\prime|$.\n",
    "\n",
    "### Overview\n",
    "1. #### Generating synthetic data\n",
    "2. #### Demonstrating `within`\n",
    "3. #### Demonstrating `intersects`\n",
    "4. #### Demonstrating non-duplicated `intersects` (`nd-intersects`)"
   ]
  },
  {
   "cell_type": "code",
   "execution_count": 1,
   "metadata": {
    "ExecuteTime": {
     "end_time": "2020-01-22T05:59:41.773282Z",
     "start_time": "2020-01-22T05:59:41.540718Z"
    }
   },
   "outputs": [
    {
     "name": "stdout",
     "output_type": "stream",
     "text": [
      "2020-01-22T00:59:41-05:00\n",
      "\n",
      "CPython 3.7.3\n",
      "IPython 7.10.2\n",
      "\n",
      "compiler   : Clang 9.0.0 (tags/RELEASE_900/final)\n",
      "system     : Darwin\n",
      "release    : 19.2.0\n",
      "machine    : x86_64\n",
      "processor  : i386\n",
      "CPU cores  : 4\n",
      "interpreter: 64bit\n"
     ]
    }
   ],
   "source": [
    "%load_ext watermark\n",
    "%watermark"
   ]
  },
  {
   "cell_type": "code",
   "execution_count": 2,
   "metadata": {
    "ExecuteTime": {
     "end_time": "2020-01-22T05:59:42.583673Z",
     "start_time": "2020-01-22T05:59:41.777148Z"
    }
   },
   "outputs": [
    {
     "name": "stdout",
     "output_type": "stream",
     "text": [
      "watermark 2.0.2\n",
      "geopandas  0.6.2\n",
      "shapely    1.6.4.post2\n",
      "matplotlib 3.1.2\n",
      "\n"
     ]
    }
   ],
   "source": [
    "import geopandas\n",
    "import matplotlib\n",
    "import shapely\n",
    "import string\n",
    "from shapely.geometry import Point, Polygon\n",
    "try:\n",
    "    from IPython.display import set_matplotlib_formats\n",
    "    set_matplotlib_formats(\"retina\", quality=100)\n",
    "except ImportError:\n",
    "    pass\n",
    "%matplotlib inline\n",
    "%watermark -w\n",
    "%watermark -iv"
   ]
  },
  {
   "cell_type": "markdown",
   "metadata": {},
   "source": [
    "----------------------------------------\n",
    "## 1. Synthetic Data\n",
    "### Synthetic points"
   ]
  },
  {
   "cell_type": "code",
   "execution_count": 3,
   "metadata": {
    "ExecuteTime": {
     "end_time": "2020-01-22T05:59:42.674991Z",
     "start_time": "2020-01-22T05:59:42.597278Z"
    }
   },
   "outputs": [
    {
     "data": {
      "text/html": [
       "<div>\n",
       "<style scoped>\n",
       "    .dataframe tbody tr th:only-of-type {\n",
       "        vertical-align: middle;\n",
       "    }\n",
       "\n",
       "    .dataframe tbody tr th {\n",
       "        vertical-align: top;\n",
       "    }\n",
       "\n",
       "    .dataframe thead th {\n",
       "        text-align: right;\n",
       "    }\n",
       "</style>\n",
       "<table border=\"1\" class=\"dataframe\">\n",
       "  <thead>\n",
       "    <tr style=\"text-align: right;\">\n",
       "      <th></th>\n",
       "      <th>point_id</th>\n",
       "      <th>geometry</th>\n",
       "    </tr>\n",
       "  </thead>\n",
       "  <tbody>\n",
       "    <tr>\n",
       "      <th>0</th>\n",
       "      <td>A</td>\n",
       "      <td>POINT (-1.00000 -1.00000)</td>\n",
       "    </tr>\n",
       "    <tr>\n",
       "      <th>1</th>\n",
       "      <td>B</td>\n",
       "      <td>POINT (0.00000 -1.00000)</td>\n",
       "    </tr>\n",
       "    <tr>\n",
       "      <th>2</th>\n",
       "      <td>C</td>\n",
       "      <td>POINT (0.50000 -0.75000)</td>\n",
       "    </tr>\n",
       "    <tr>\n",
       "      <th>3</th>\n",
       "      <td>D</td>\n",
       "      <td>POINT (-0.50000 -0.50000)</td>\n",
       "    </tr>\n",
       "    <tr>\n",
       "      <th>4</th>\n",
       "      <td>E</td>\n",
       "      <td>POINT (0.50000 -0.50000)</td>\n",
       "    </tr>\n",
       "    <tr>\n",
       "      <th>5</th>\n",
       "      <td>F</td>\n",
       "      <td>POINT (0.00000 0.00000)</td>\n",
       "    </tr>\n",
       "    <tr>\n",
       "      <th>6</th>\n",
       "      <td>G</td>\n",
       "      <td>POINT (0.50000 0.50000)</td>\n",
       "    </tr>\n",
       "  </tbody>\n",
       "</table>\n",
       "</div>"
      ],
      "text/plain": [
       "  point_id                   geometry\n",
       "0        A  POINT (-1.00000 -1.00000)\n",
       "1        B   POINT (0.00000 -1.00000)\n",
       "2        C   POINT (0.50000 -0.75000)\n",
       "3        D  POINT (-0.50000 -0.50000)\n",
       "4        E   POINT (0.50000 -0.50000)\n",
       "5        F    POINT (0.00000 0.00000)\n",
       "6        G    POINT (0.50000 0.50000)"
      ]
     },
     "execution_count": 3,
     "metadata": {},
     "output_type": "execute_result"
    }
   ],
   "source": [
    "point_coords = [(-1,-1), (0,-1), (.5,-.75), (-.5,-.5), (.5,-.5), (0,0), (.5,.5)]\n",
    "point_ids = {\"point_id\":list(string.ascii_uppercase[:len(point_coords)])}\n",
    "points = [Point(coords) for coords in point_coords]\n",
    "points = geopandas.GeoDataFrame(point_ids, geometry=points)\n",
    "points"
   ]
  },
  {
   "cell_type": "markdown",
   "metadata": {},
   "source": [
    "### Synthetic polygons"
   ]
  },
  {
   "cell_type": "code",
   "execution_count": 4,
   "metadata": {
    "ExecuteTime": {
     "end_time": "2020-01-22T05:59:42.710948Z",
     "start_time": "2020-01-22T05:59:42.680167Z"
    }
   },
   "outputs": [
    {
     "data": {
      "text/html": [
       "<div>\n",
       "<style scoped>\n",
       "    .dataframe tbody tr th:only-of-type {\n",
       "        vertical-align: middle;\n",
       "    }\n",
       "\n",
       "    .dataframe tbody tr th {\n",
       "        vertical-align: top;\n",
       "    }\n",
       "\n",
       "    .dataframe thead th {\n",
       "        text-align: right;\n",
       "    }\n",
       "</style>\n",
       "<table border=\"1\" class=\"dataframe\">\n",
       "  <thead>\n",
       "    <tr style=\"text-align: right;\">\n",
       "      <th></th>\n",
       "      <th>polygon_id</th>\n",
       "      <th>geometry</th>\n",
       "    </tr>\n",
       "  </thead>\n",
       "  <tbody>\n",
       "    <tr>\n",
       "      <th>0</th>\n",
       "      <td>x</td>\n",
       "      <td>POLYGON ((-1.00000 -1.00000, 0.00000 -1.00000,...</td>\n",
       "    </tr>\n",
       "    <tr>\n",
       "      <th>1</th>\n",
       "      <td>y</td>\n",
       "      <td>POLYGON ((0.00000 -1.00000, 1.00000 -1.00000, ...</td>\n",
       "    </tr>\n",
       "    <tr>\n",
       "      <th>2</th>\n",
       "      <td>z</td>\n",
       "      <td>POLYGON ((-1.00000 0.00000, 0.00000 0.00000, 0...</td>\n",
       "    </tr>\n",
       "  </tbody>\n",
       "</table>\n",
       "</div>"
      ],
      "text/plain": [
       "  polygon_id                                           geometry\n",
       "0          x  POLYGON ((-1.00000 -1.00000, 0.00000 -1.00000,...\n",
       "1          y  POLYGON ((0.00000 -1.00000, 1.00000 -1.00000, ...\n",
       "2          z  POLYGON ((-1.00000 0.00000, 0.00000 0.00000, 0..."
      ]
     },
     "execution_count": 4,
     "metadata": {},
     "output_type": "execute_result"
    }
   ],
   "source": [
    "polygon_coords = [\n",
    "    [(-1,-1), (0,-1), (0,0), (-1,0)],\n",
    "    [(0,-1), (1,-1), (1,0), (0,0)],\n",
    "    [(-1,0), (0,0), (0,1), (-1,1)]\n",
    "]\n",
    "polygons = [Polygon(coords) for coords in polygon_coords]\n",
    "polygon_ids = {\"polygon_id\":list(string.ascii_lowercase[-len(polygon_coords):])}\n",
    "polygons = geopandas.GeoDataFrame(polygon_ids, geometry=polygons)\n",
    "polygons"
   ]
  },
  {
   "cell_type": "markdown",
   "metadata": {},
   "source": [
    "----------------------------------------------------\n",
    "## 2. Perform left spatial join — `within`\n",
    "### The issue with a `within` operation is that a point that exactly intersects a polygon exterior (`touch`) is not contained in the polygon."
   ]
  },
  {
   "cell_type": "code",
   "execution_count": 5,
   "metadata": {
    "ExecuteTime": {
     "end_time": "2020-01-22T05:59:42.774723Z",
     "start_time": "2020-01-22T05:59:42.714767Z"
    }
   },
   "outputs": [
    {
     "data": {
      "text/html": [
       "<div>\n",
       "<style scoped>\n",
       "    .dataframe tbody tr th:only-of-type {\n",
       "        vertical-align: middle;\n",
       "    }\n",
       "\n",
       "    .dataframe tbody tr th {\n",
       "        vertical-align: top;\n",
       "    }\n",
       "\n",
       "    .dataframe thead th {\n",
       "        text-align: right;\n",
       "    }\n",
       "</style>\n",
       "<table border=\"1\" class=\"dataframe\">\n",
       "  <thead>\n",
       "    <tr style=\"text-align: right;\">\n",
       "      <th></th>\n",
       "      <th>point_id</th>\n",
       "      <th>polygon_id</th>\n",
       "      <th>geometry</th>\n",
       "    </tr>\n",
       "  </thead>\n",
       "  <tbody>\n",
       "    <tr>\n",
       "      <th>0</th>\n",
       "      <td>A</td>\n",
       "      <td>NaN</td>\n",
       "      <td>POINT (-1.00000 -1.00000)</td>\n",
       "    </tr>\n",
       "    <tr>\n",
       "      <th>1</th>\n",
       "      <td>B</td>\n",
       "      <td>NaN</td>\n",
       "      <td>POINT (0.00000 -1.00000)</td>\n",
       "    </tr>\n",
       "    <tr>\n",
       "      <th>2</th>\n",
       "      <td>C</td>\n",
       "      <td>y</td>\n",
       "      <td>POINT (0.50000 -0.75000)</td>\n",
       "    </tr>\n",
       "    <tr>\n",
       "      <th>3</th>\n",
       "      <td>D</td>\n",
       "      <td>x</td>\n",
       "      <td>POINT (-0.50000 -0.50000)</td>\n",
       "    </tr>\n",
       "    <tr>\n",
       "      <th>4</th>\n",
       "      <td>E</td>\n",
       "      <td>y</td>\n",
       "      <td>POINT (0.50000 -0.50000)</td>\n",
       "    </tr>\n",
       "    <tr>\n",
       "      <th>5</th>\n",
       "      <td>F</td>\n",
       "      <td>NaN</td>\n",
       "      <td>POINT (0.00000 0.00000)</td>\n",
       "    </tr>\n",
       "    <tr>\n",
       "      <th>6</th>\n",
       "      <td>G</td>\n",
       "      <td>NaN</td>\n",
       "      <td>POINT (0.50000 0.50000)</td>\n",
       "    </tr>\n",
       "  </tbody>\n",
       "</table>\n",
       "</div>"
      ],
      "text/plain": [
       "  point_id polygon_id                   geometry\n",
       "0        A        NaN  POINT (-1.00000 -1.00000)\n",
       "1        B        NaN   POINT (0.00000 -1.00000)\n",
       "2        C          y   POINT (0.50000 -0.75000)\n",
       "3        D          x  POINT (-0.50000 -0.50000)\n",
       "4        E          y   POINT (0.50000 -0.50000)\n",
       "5        F        NaN    POINT (0.00000 0.00000)\n",
       "6        G        NaN    POINT (0.50000 0.50000)"
      ]
     },
     "execution_count": 5,
     "metadata": {},
     "output_type": "execute_result"
    }
   ],
   "source": [
    "keep_columns = [\"point_id\", \"polygon_id\", \"geometry\"]\n",
    "within_df = geopandas.sjoin(points, polygons, how=\"left\", op=\"within\")\n",
    "within_df = within_df.copy()[keep_columns]\n",
    "# Fill actual NaN with \"NaN\" for plotting purposes\n",
    "within_df.loc[(within_df[\"polygon_id\"].isna()), \"polygon_id\"] = \"NaN\"\n",
    "within_df"
   ]
  },
  {
   "cell_type": "markdown",
   "metadata": {},
   "source": [
    "### Plot — `within`"
   ]
  },
  {
   "cell_type": "code",
   "execution_count": 6,
   "metadata": {
    "ExecuteTime": {
     "end_time": "2020-01-22T05:59:42.791236Z",
     "start_time": "2020-01-22T05:59:42.779971Z"
    }
   },
   "outputs": [],
   "source": [
    "def pgon_labels(pgons, b, pgid, geom=\"geometry\"):\n",
    "    \"\"\"label polygons with 'polygon_id'\"\"\"\n",
    "    def _loc(_x):\n",
    "        \"\"\"polygon label location helper\"\"\"\n",
    "        return [coord+.35 for coord in _x[geom].centroid.coords[0]]\n",
    "    kws = {\"size\":25, \"va\":\"bottom\"}\n",
    "    pgons.apply(lambda x: b.annotate(s=x[pgid], xy=_loc(x), **kws), axis=1)"
   ]
  },
  {
   "cell_type": "code",
   "execution_count": 7,
   "metadata": {
    "ExecuteTime": {
     "end_time": "2020-01-22T05:59:42.828955Z",
     "start_time": "2020-01-22T05:59:42.799329Z"
    }
   },
   "outputs": [],
   "source": [
    "def pt_labels(pts, b, ptid, pgid, geom=\"geometry\"):\n",
    "    \"\"\"label points with 'point_id+polygon_id'\"\"\"\n",
    "    def _lab(_x):\n",
    "        \"\"\"point label helper\"\"\"\n",
    "        return \",\".join([_x[ptid], _x[pgid]])\n",
    "    def _loc(_x):\n",
    "        \"\"\"point label location helper\"\"\"\n",
    "        return _x[geom].coords[0]\n",
    "    kws = {\"size\":15, \"va\":\"bottom\", \"weight\":\"bold\"}\n",
    "    pts.apply(lambda x: b.annotate(s=_lab(x), xy=_loc(x), **kws), axis=1)"
   ]
  },
  {
   "cell_type": "code",
   "execution_count": 8,
   "metadata": {
    "ExecuteTime": {
     "end_time": "2020-01-22T05:59:42.857077Z",
     "start_time": "2020-01-22T05:59:42.842811Z"
    }
   },
   "outputs": [],
   "source": [
    "def title(label, sup=True):\n",
    "    \"\"\"add a suptitle or title\"\"\"\n",
    "    if sup:\n",
    "        matplotlib.pyplot.suptitle(label, x=0.515, y=.98, fontsize=30)\n",
    "    else:\n",
    "        matplotlib.pyplot.title(label, fontsize=20)"
   ]
  },
  {
   "cell_type": "code",
   "execution_count": 9,
   "metadata": {
    "ExecuteTime": {
     "end_time": "2020-01-22T05:59:43.285154Z",
     "start_time": "2020-01-22T05:59:42.864519Z"
    }
   },
   "outputs": [
    {
     "data": {
      "image/png": "[encoded data removed]",
      "text/plain": [
       "<Figure size 576x576 with 1 Axes>"
      ]
     },
     "metadata": {
      "needs_background": "light"
     },
     "output_type": "display_data"
    }
   ],
   "source": [
    "base = polygons.plot(figsize=(8,8), zorder=0, facecolor=\"w\", edgecolor=\"k\")\n",
    "within_df.plot(ax=base, markersize=50, column=\"polygon_id\", cmap=\"Paired\")\n",
    "# polygons labeled with \"polygon_id\"\n",
    "pgon_labels(polygons, base, \"polygon_id\")\n",
    "# points labeled with \"point_id\" and \"polygon_id\"\n",
    "pt_labels(within_df, base, \"point_id\", \"polygon_id\")\n",
    "# add title\n",
    "title('op=\"within\"');"
   ]
  },
  {
   "cell_type": "markdown",
   "metadata": {},
   "source": [
    "-------------------------\n",
    "## 3. Perform left spatial join — `intersects`\n",
    "### The issue with an `intersects` operation is that a point that exactly intersects multiple polygon exteriors (`touch`) is duplicated from each polygon it intersects."
   ]
  },
  {
   "cell_type": "code",
   "execution_count": 10,
   "metadata": {
    "ExecuteTime": {
     "end_time": "2020-01-22T05:59:43.335931Z",
     "start_time": "2020-01-22T05:59:43.289278Z"
    }
   },
   "outputs": [
    {
     "data": {
      "text/html": [
       "<div>\n",
       "<style scoped>\n",
       "    .dataframe tbody tr th:only-of-type {\n",
       "        vertical-align: middle;\n",
       "    }\n",
       "\n",
       "    .dataframe tbody tr th {\n",
       "        vertical-align: top;\n",
       "    }\n",
       "\n",
       "    .dataframe thead th {\n",
       "        text-align: right;\n",
       "    }\n",
       "</style>\n",
       "<table border=\"1\" class=\"dataframe\">\n",
       "  <thead>\n",
       "    <tr style=\"text-align: right;\">\n",
       "      <th></th>\n",
       "      <th>point_id</th>\n",
       "      <th>polygon_id</th>\n",
       "      <th>geometry</th>\n",
       "    </tr>\n",
       "  </thead>\n",
       "  <tbody>\n",
       "    <tr>\n",
       "      <th>0</th>\n",
       "      <td>A</td>\n",
       "      <td>x</td>\n",
       "      <td>POINT (-1.00000 -1.00000)</td>\n",
       "    </tr>\n",
       "    <tr>\n",
       "      <th>1</th>\n",
       "      <td>B</td>\n",
       "      <td>x</td>\n",
       "      <td>POINT (0.00000 -1.00000)</td>\n",
       "    </tr>\n",
       "    <tr>\n",
       "      <th>1</th>\n",
       "      <td>B</td>\n",
       "      <td>y</td>\n",
       "      <td>POINT (0.00000 -1.00000)</td>\n",
       "    </tr>\n",
       "    <tr>\n",
       "      <th>2</th>\n",
       "      <td>C</td>\n",
       "      <td>y</td>\n",
       "      <td>POINT (0.50000 -0.75000)</td>\n",
       "    </tr>\n",
       "    <tr>\n",
       "      <th>3</th>\n",
       "      <td>D</td>\n",
       "      <td>x</td>\n",
       "      <td>POINT (-0.50000 -0.50000)</td>\n",
       "    </tr>\n",
       "    <tr>\n",
       "      <th>4</th>\n",
       "      <td>E</td>\n",
       "      <td>y</td>\n",
       "      <td>POINT (0.50000 -0.50000)</td>\n",
       "    </tr>\n",
       "    <tr>\n",
       "      <th>5</th>\n",
       "      <td>F</td>\n",
       "      <td>x</td>\n",
       "      <td>POINT (0.00000 0.00000)</td>\n",
       "    </tr>\n",
       "    <tr>\n",
       "      <th>5</th>\n",
       "      <td>F</td>\n",
       "      <td>y</td>\n",
       "      <td>POINT (0.00000 0.00000)</td>\n",
       "    </tr>\n",
       "    <tr>\n",
       "      <th>5</th>\n",
       "      <td>F</td>\n",
       "      <td>z</td>\n",
       "      <td>POINT (0.00000 0.00000)</td>\n",
       "    </tr>\n",
       "    <tr>\n",
       "      <th>6</th>\n",
       "      <td>G</td>\n",
       "      <td>NaN</td>\n",
       "      <td>POINT (0.50000 0.50000)</td>\n",
       "    </tr>\n",
       "  </tbody>\n",
       "</table>\n",
       "</div>"
      ],
      "text/plain": [
       "  point_id polygon_id                   geometry\n",
       "0        A          x  POINT (-1.00000 -1.00000)\n",
       "1        B          x   POINT (0.00000 -1.00000)\n",
       "1        B          y   POINT (0.00000 -1.00000)\n",
       "2        C          y   POINT (0.50000 -0.75000)\n",
       "3        D          x  POINT (-0.50000 -0.50000)\n",
       "4        E          y   POINT (0.50000 -0.50000)\n",
       "5        F          x    POINT (0.00000 0.00000)\n",
       "5        F          y    POINT (0.00000 0.00000)\n",
       "5        F          z    POINT (0.00000 0.00000)\n",
       "6        G        NaN    POINT (0.50000 0.50000)"
      ]
     },
     "execution_count": 10,
     "metadata": {},
     "output_type": "execute_result"
    }
   ],
   "source": [
    "keep_columns = [\"point_id\", \"polygon_id\", \"geometry\"]\n",
    "intersects_df = geopandas.sjoin(points, polygons, how=\"left\", op=\"intersects\")\n",
    "intersects_df = intersects_df.copy()[keep_columns]\n",
    "# Fill actual NaN with \"NaN\" for plotting purposes\n",
    "intersects_df.loc[(intersects_df[\"polygon_id\"].isna()), \"polygon_id\"] = \"NaN\"\n",
    "intersects_df"
   ]
  },
  {
   "cell_type": "markdown",
   "metadata": {},
   "source": [
    "### Plot — `intersects`"
   ]
  },
  {
   "cell_type": "code",
   "execution_count": 11,
   "metadata": {
    "ExecuteTime": {
     "end_time": "2020-01-22T05:59:43.785005Z",
     "start_time": "2020-01-22T05:59:43.340514Z"
    }
   },
   "outputs": [
    {
     "data": {
      "image/png": "[encoded data removed]",
      "text/plain": [
       "<Figure size 576x576 with 1 Axes>"
      ]
     },
     "metadata": {
      "needs_background": "light"
     },
     "output_type": "display_data"
    }
   ],
   "source": [
    "base = polygons.plot(figsize=(8,8), zorder=0, facecolor=\"w\", edgecolor=\"k\")\n",
    "intersects_df.plot(ax=base, markersize=50, column=\"polygon_id\", cmap=\"Paired\")\n",
    "# polygons labeled with \"polygon_id\"\n",
    "pgon_labels(polygons, base, \"polygon_id\")\n",
    "# points labeled with \"point_id\" and \"polygon_id\"\n",
    "pt_labels(intersects_df, base, \"point_id\", \"polygon_id\")\n",
    "# add title\n",
    "title('op=\"intersects\"');"
   ]
  },
  {
   "cell_type": "markdown",
   "metadata": {},
   "source": [
    "-------------------------------------\n",
    "## 4. Solution: a non-duplicated intersects operation\n",
    "### This method has two benefits:\n",
    "* #### polygon attribute values are squashed into one label, which can be extracted later; and\n",
    "* #### the number of points in the original dataset is preserved"
   ]
  },
  {
   "cell_type": "code",
   "execution_count": 12,
   "metadata": {
    "ExecuteTime": {
     "end_time": "2020-01-22T05:59:43.833646Z",
     "start_time": "2020-01-22T05:59:43.816249Z"
    }
   },
   "outputs": [],
   "source": [
    "def nd_intersects(wgdf, igdf, ptid, pgid, nan=\"NaN\", geom=\"geometry\"):\n",
    "    \"\"\"Create a non-duplicated intersects geodataframe.\n",
    "    \n",
    "    Parameters\n",
    "    ----------\n",
    "    wgdf : geopandas.GeoDataFrame\n",
    "        Result of the 'op=\"within\"' spatial join.\n",
    "    igdf : geopandas.GeoDataFrame\n",
    "        Result of the 'op=\"intersects\"' spatial join.\n",
    "    ptid : str\n",
    "        Point ID column name.\n",
    "    pgid : str\n",
    "        Polygon ID column name.\n",
    "    nan : str\n",
    "        No data (not a number) string representation. Default is 'NaN.'\n",
    "    geom : str\n",
    "        Geometry column name. Default is 'geometry.'\n",
    "    \n",
    "    Returns\n",
    "    -------\n",
    "    ndgdf : geopandas.GeoDataFrame\n",
    "        Result of the non-duplicated intersects method.\n",
    "    \"\"\"\n",
    "    \n",
    "    # Isolate the cases of `intersect` but not `within`\n",
    "    without = set(wgdf[(wgdf[pgid] == nan)].index)\n",
    "    disjoint = set(igdf[(igdf[pgid] == nan)].index)\n",
    "    touches = without.symmetric_difference(disjoint)\n",
    "    \n",
    "    # touches_df\n",
    "    tgdf = igdf[igdf.index.isin(touches)]\n",
    "    \n",
    "    # Extract cases in touches from within_df for new within_df\n",
    "    wgdf = igdf[~igdf.index.isin(touches)]\n",
    "    \n",
    "    # Squash touches_df by point_id and combine with within_df\n",
    "    index = range(tgdf[ptid].nunique())\n",
    "    _t_gdf = geopandas.GeoDataFrame(columns=tgdf.columns,index=index)\n",
    "    \n",
    "    # iterate over a grouby object to populate\n",
    "    # the squashed touching points\n",
    "    for idx, (pid, group) in enumerate(tgdf.groupby(ptid)):\n",
    "        _t_gdf.loc[idx, ptid] = pid\n",
    "        _t_gdf.loc[idx, pgid] = \"-\".join(group[pgid])\n",
    "        _t_gdf.loc[idx, geom] = group[geom].unique()\n",
    "    \n",
    "    # append the squashed version of the\n",
    "    # touching points the within points \n",
    "    ndgdf = wgdf.append(_t_gdf, ignore_index=True)\n",
    "    \n",
    "    return ndgdf"
   ]
  },
  {
   "cell_type": "markdown",
   "metadata": {},
   "source": [
    "### Run the `nd-intersects ` method"
   ]
  },
  {
   "cell_type": "code",
   "execution_count": 13,
   "metadata": {
    "ExecuteTime": {
     "end_time": "2020-01-22T05:59:43.883896Z",
     "start_time": "2020-01-22T05:59:43.840007Z"
    }
   },
   "outputs": [
    {
     "data": {
      "text/html": [
       "<div>\n",
       "<style scoped>\n",
       "    .dataframe tbody tr th:only-of-type {\n",
       "        vertical-align: middle;\n",
       "    }\n",
       "\n",
       "    .dataframe tbody tr th {\n",
       "        vertical-align: top;\n",
       "    }\n",
       "\n",
       "    .dataframe thead th {\n",
       "        text-align: right;\n",
       "    }\n",
       "</style>\n",
       "<table border=\"1\" class=\"dataframe\">\n",
       "  <thead>\n",
       "    <tr style=\"text-align: right;\">\n",
       "      <th></th>\n",
       "      <th>point_id</th>\n",
       "      <th>polygon_id</th>\n",
       "      <th>geometry</th>\n",
       "    </tr>\n",
       "  </thead>\n",
       "  <tbody>\n",
       "    <tr>\n",
       "      <th>0</th>\n",
       "      <td>C</td>\n",
       "      <td>y</td>\n",
       "      <td>POINT (0.50000 -0.75000)</td>\n",
       "    </tr>\n",
       "    <tr>\n",
       "      <th>1</th>\n",
       "      <td>D</td>\n",
       "      <td>x</td>\n",
       "      <td>POINT (-0.50000 -0.50000)</td>\n",
       "    </tr>\n",
       "    <tr>\n",
       "      <th>2</th>\n",
       "      <td>E</td>\n",
       "      <td>y</td>\n",
       "      <td>POINT (0.50000 -0.50000)</td>\n",
       "    </tr>\n",
       "    <tr>\n",
       "      <th>3</th>\n",
       "      <td>G</td>\n",
       "      <td>NaN</td>\n",
       "      <td>POINT (0.50000 0.50000)</td>\n",
       "    </tr>\n",
       "    <tr>\n",
       "      <th>4</th>\n",
       "      <td>A</td>\n",
       "      <td>x</td>\n",
       "      <td>POINT (-1.00000 -1.00000)</td>\n",
       "    </tr>\n",
       "    <tr>\n",
       "      <th>5</th>\n",
       "      <td>B</td>\n",
       "      <td>x-y</td>\n",
       "      <td>POINT (0.00000 -1.00000)</td>\n",
       "    </tr>\n",
       "    <tr>\n",
       "      <th>6</th>\n",
       "      <td>F</td>\n",
       "      <td>x-y-z</td>\n",
       "      <td>POINT (0.00000 0.00000)</td>\n",
       "    </tr>\n",
       "  </tbody>\n",
       "</table>\n",
       "</div>"
      ],
      "text/plain": [
       "  point_id polygon_id                   geometry\n",
       "0        C          y   POINT (0.50000 -0.75000)\n",
       "1        D          x  POINT (-0.50000 -0.50000)\n",
       "2        E          y   POINT (0.50000 -0.50000)\n",
       "3        G        NaN    POINT (0.50000 0.50000)\n",
       "4        A          x  POINT (-1.00000 -1.00000)\n",
       "5        B        x-y   POINT (0.00000 -1.00000)\n",
       "6        F      x-y-z    POINT (0.00000 0.00000)"
      ]
     },
     "execution_count": 13,
     "metadata": {},
     "output_type": "execute_result"
    }
   ],
   "source": [
    "nd_intersects_df = nd_intersects(within_df, intersects_df, \"point_id\", \"polygon_id\")\n",
    "nd_intersects_df"
   ]
  },
  {
   "cell_type": "markdown",
   "metadata": {
    "ExecuteTime": {
     "end_time": "2020-01-21T23:17:17.667180Z",
     "start_time": "2020-01-21T23:17:17.663444Z"
    }
   },
   "source": [
    "### Plot — `nd-intersects`"
   ]
  },
  {
   "cell_type": "code",
   "execution_count": 14,
   "metadata": {
    "ExecuteTime": {
     "end_time": "2020-01-22T05:59:44.576667Z",
     "start_time": "2020-01-22T05:59:43.897103Z"
    }
   },
   "outputs": [
    {
     "data": {
      "image/png": "[encoded data removed]",
      "text/plain": [
       "<Figure size 576x576 with 1 Axes>"
      ]
     },
     "metadata": {
      "needs_background": "light"
     },
     "output_type": "display_data"
    }
   ],
   "source": [
    "base = polygons.plot(figsize=(8,8), zorder=0, facecolor=\"w\", edgecolor=\"k\")\n",
    "nd_intersects_df.plot(ax=base, markersize=50, column=\"polygon_id\", cmap=\"Paired\")\n",
    "# polygons labeled with \"polygon_id\"\n",
    "pgon_labels(polygons, base, \"polygon_id\")\n",
    "# points labeled with \"point_id\" and \"polygon_id\"\n",
    "pt_labels(nd_intersects_df, base, \"point_id\", \"polygon_id\")\n",
    "# add title\n",
    "title('op=\"nd-intersects\"');\n",
    "title('(op=\"within\"$^\\\\frown$op=\"intersects\")', sup=False);"
   ]
  },
  {
   "cell_type": "markdown",
   "metadata": {},
   "source": [
    "------------------"
   ]
  }
 ],
 "metadata": {
  "kernelspec": {
   "display_name": "Python [conda env:py3_spgh_dev]",
   "language": "python",
   "name": "conda-env-py3_spgh_dev-py"
  },
  "language_info": {
   "codemirror_mode": {
    "name": "ipython",
    "version": 3
   },
   "file_extension": ".py",
   "mimetype": "text/x-python",
   "name": "python",
   "nbconvert_exporter": "python",
   "pygments_lexer": "ipython3",
   "version": "3.7.3"
  }
 },
 "nbformat": 4,
 "nbformat_minor": 2
}
