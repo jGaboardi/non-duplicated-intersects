{
 "cells": [
  {
   "cell_type": "markdown",
   "metadata": {},
   "source": [
    "--------------------------------------------\n",
    "**All information in ths notebook is licensed under the BSD 3-Clause \"New\" or \"Revised\" License. The license is found [here](https://github.com/jGaboardi/non-duplicated-intersects/blob/master/LICENSE).**\n",
    "\n",
    "**If any part of this notebook is used in your research, please cite with the reference found in [README.md](https://github.com/jGaboardi/non-duplicated-intersects/blob/master/README.md#bibtex-citation).**\n",
    "\n",
    "--------------------------------------------\n",
    "# Non-duplicated intersects \n",
    "## Demonstrating an enhanced intersect operation with [sjoin in GeoPandas](http://geopandas.org/reference/geopandas.sjoin.html)\n",
    "### Author: James D. Gaboardi jgaboardi@gmail.com\n",
    "-----------------------------------\n",
    "**This notebook demonstrates the strengths of combining the concepts of `within` and `intersects` for a non-duplicated `intersects` version of spatial join. This method can be thought of as \"point-associated-with-polygon,\" because it captures the spatial relationship of points contained within a polygon and touching the exterior of the polygon, while preserving the cardinality of the original point set, $|P| = |P^\\prime|$.**\n",
    "\n",
    "### Overview\n",
    "\n",
    "1. **Defined Globals and Functions**\n",
    "2. **Generating synthetic data**\n",
    "3. **Demonstrating `within`**\n",
    "4. **Demonstrating `intersects`**\n",
    "5. **Demonstrating non-duplicated `intersects` (`nd-intersects`)**"
   ]
  },
  {
   "cell_type": "code",
   "execution_count": 1,
   "metadata": {
    "ExecuteTime": {
     "end_time": "2020-01-22T21:56:26.749907Z",
     "start_time": "2020-01-22T21:56:26.015611Z"
    }
   },
   "outputs": [
    {
     "name": "stdout",
     "output_type": "stream",
     "text": [
      "2020-01-22T16:56:26-05:00\n",
      "\n",
      "CPython 3.7.3\n",
      "IPython 7.10.2\n",
      "\n",
      "compiler   : Clang 9.0.0 (tags/RELEASE_900/final)\n",
      "system     : Darwin\n",
      "release    : 19.2.0\n",
      "machine    : x86_64\n",
      "processor  : i386\n",
      "CPU cores  : 4\n",
      "interpreter: 64bit\n"
     ]
    }
   ],
   "source": [
    "%load_ext watermark\n",
    "%watermark"
   ]
  },
  {
   "cell_type": "code",
   "execution_count": 2,
   "metadata": {
    "ExecuteTime": {
     "end_time": "2020-01-22T21:56:27.606370Z",
     "start_time": "2020-01-22T21:56:26.755814Z"
    }
   },
   "outputs": [
    {
     "name": "stdout",
     "output_type": "stream",
     "text": [
      "watermark 2.0.2\n",
      "shapely    1.6.4.post2\n",
      "geopandas  0.6.2\n",
      "matplotlib 3.1.2\n",
      "\n"
     ]
    }
   ],
   "source": [
    "import geopandas\n",
    "import matplotlib\n",
    "import shapely\n",
    "import string\n",
    "from shapely.geometry import Point, Polygon\n",
    "try:\n",
    "    from IPython.display import set_matplotlib_formats\n",
    "    set_matplotlib_formats(\"retina\", quality=100)\n",
    "except ImportError:\n",
    "    pass\n",
    "%matplotlib inline\n",
    "%watermark -w\n",
    "%watermark -iv"
   ]
  },
  {
   "cell_type": "markdown",
   "metadata": {},
   "source": [
    "---------------------------------------\n",
    "## 1. Defined Globals and Functions\n",
    "### Globals"
   ]
  },
  {
   "cell_type": "code",
   "execution_count": 3,
   "metadata": {
    "ExecuteTime": {
     "end_time": "2020-01-22T21:56:27.620972Z",
     "start_time": "2020-01-22T21:56:27.613034Z"
    }
   },
   "outputs": [],
   "source": [
    "PTID = \"point_id\"\n",
    "PGID = \"polygon_id\"\n",
    "GEOM = \"geometry\"\n",
    "KEEP_COLUMNS = [PTID, PGID, GEOM]\n",
    "NAN = \"NaN\"\n",
    "HOW = \"left\"\n",
    "WITHIN = \"within\"\n",
    "INTERSECTS = \"intersects\""
   ]
  },
  {
   "cell_type": "markdown",
   "metadata": {},
   "source": [
    "### Functions"
   ]
  },
  {
   "cell_type": "code",
   "execution_count": 4,
   "metadata": {
    "ExecuteTime": {
     "end_time": "2020-01-22T21:56:27.633755Z",
     "start_time": "2020-01-22T21:56:27.624044Z"
    }
   },
   "outputs": [],
   "source": [
    "def nd_intersects(pnts, pgons):\n",
    "    \"\"\"Create a non-duplicated intersects geodataframe.\n",
    "    \n",
    "    Parameters\n",
    "    ----------\n",
    "    pnts : geopandas.GeoDataFrame\n",
    "        Points for spatial join.\n",
    "    pgons : geopandas.GeoDataFrame\n",
    "        Polygons for spatial join.\n",
    "    how : str\n",
    "        Type of join to perform.\n",
    "    Returns\n",
    "    -------\n",
    "    ndgdf : geopandas.GeoDataFrame\n",
    "        Result of the non-duplicated intersects method.\n",
    "    \"\"\"\n",
    "    \n",
    "    # perform \"intersects\" spatial join\n",
    "    igdf = do_sjoin(points, polygons, INTERSECTS)\n",
    "    \n",
    "    # Create shell dataframe to store squashed intersection points\n",
    "    index = range(pnts[PTID].nunique())\n",
    "    ndgdf = geopandas.GeoDataFrame(columns=igdf.columns, index=index)\n",
    "    \n",
    "    # Iterate over a grouby object to populate\n",
    "    # the squashed intersection points\n",
    "    for idx, (pid, group) in enumerate(igdf.groupby(PTID)):\n",
    "        ndgdf.loc[idx, PTID] = pid\n",
    "        ndgdf.loc[idx, PGID] = \"-\".join(group[PGID])\n",
    "        ndgdf.loc[idx, GEOM] = group[GEOM].unique()\n",
    "    \n",
    "    return ndgdf"
   ]
  },
  {
   "cell_type": "code",
   "execution_count": 5,
   "metadata": {
    "ExecuteTime": {
     "end_time": "2020-01-22T21:56:27.646794Z",
     "start_time": "2020-01-22T21:56:27.638675Z"
    }
   },
   "outputs": [],
   "source": [
    "def do_sjoin(df1, df2, op):\n",
    "    \"\"\"Perform a spatial join in GeoPandas.\n",
    "    \n",
    "    Parameters\n",
    "    ----------\n",
    "    df1 : geopandas.GeoDataFrame\n",
    "        Left geodataframe for the spatial join.\n",
    "    df2 : geopandas.GeoDataFrame\n",
    "        Right geodataframe for the spatial join.\n",
    "    op : str\n",
    "        Binary predicate in Shapley.\n",
    "        https://shapely.readthedocs.io/en/latest/manual.html#binary-predicates\n",
    "    \n",
    "    Returns\n",
    "    -------\n",
    "    df3 : \n",
    "        Result of the spatial join\n",
    "    \"\"\"\n",
    "    \n",
    "    df3 = geopandas.sjoin(df1, df2, how=HOW, op=op)\n",
    "    df3 = df3.copy()[KEEP_COLUMNS]\n",
    "    # Fill actual NaN with \"NaN\" for plotting purposes\n",
    "    df3.loc[(df3[PGID].isna()), PGID] = NAN\n",
    "    \n",
    "    return df3"
   ]
  },
  {
   "cell_type": "code",
   "execution_count": 6,
   "metadata": {
    "ExecuteTime": {
     "end_time": "2020-01-22T21:56:27.704543Z",
     "start_time": "2020-01-22T21:56:27.651306Z"
    }
   },
   "outputs": [],
   "source": [
    "def plot_join(pnts, pgons, title, orig, save=None, cmap=\"Paired\", fmat=\"png\"):\n",
    "    \"\"\"Plot a spatial join from this notebook.\n",
    "    \n",
    "    Parameters\n",
    "    ----------\n",
    "    pnts : geopandas.GeoDataFrame\n",
    "        Points for spatial join.\n",
    "    pgons : geopandas.GeoDataFrame\n",
    "        Polygons for spatial join.\n",
    "    title : str\n",
    "        Supertitle of the plot.\n",
    "    orig : int\n",
    "        Set cardinality of original point set, $|P|$.\n",
    "    save : str\n",
    "        File name (including path) plot output. Default is None.\n",
    "    cmap : str\n",
    "        Default is 'Paired'.\n",
    "        https://matplotlib.org/3.1.1/gallery/color/colormap_reference.html\n",
    "    fmat : str\n",
    "        Format for saving `savefig`. Default is 'png'.\n",
    "    \"\"\"\n",
    "    \n",
    "    def pgon_labels(p):\n",
    "        \"\"\"label polygons\"\"\"\n",
    "        def _loc(_x):\n",
    "            \"\"\"polygon label location helper\"\"\"\n",
    "            return [coord+.35 for coord in _x[GEOM].centroid.coords[0]]\n",
    "        kws = {\"size\":25, \"va\":\"bottom\"}\n",
    "        p.apply(lambda x: base.annotate(s=x[PGID], xy=_loc(x), **kws), axis=1)\n",
    "    \n",
    "    def pt_labels(p):\n",
    "        \"\"\"label points with PTID+PGID\"\"\"\n",
    "        def _lab(_x):\n",
    "            \"\"\"point label helper\"\"\"\n",
    "            return \",\".join([_x[PTID], _x[PGID]])\n",
    "        def _loc(_x):\n",
    "            \"\"\"point label location helper\"\"\"\n",
    "            return _x[GEOM].coords[0]\n",
    "        kws = {\"size\":15, \"va\":\"bottom\", \"weight\":\"bold\"}\n",
    "        p.apply(lambda x: base.annotate(s=_lab(x), xy=_loc(x), **kws), axis=1)\n",
    "    \n",
    "    def add_title(label, sup=True):\n",
    "        \"\"\"add a suptitle or title\"\"\"\n",
    "        if sup:\n",
    "            matplotlib.pyplot.suptitle(label, x=0.515, y=.98, fontsize=30)\n",
    "        else:\n",
    "            matplotlib.pyplot.title(label, fontsize=20)\n",
    "    \n",
    "    def set_card():\n",
    "        \"\"\"Determine equality of set cardinality for subtitle\"\"\"\n",
    "        sj_pnts = pnts.shape[0]\n",
    "        if orig == sj_pnts:\n",
    "            oper = \"=\"\n",
    "        elif orig < sj_pnts:\n",
    "            oper = \"<\"\n",
    "        elif orig > sj_pnts:\n",
    "            oper = \">\"\n",
    "        else:\n",
    "            raise ValueError(\"Equality could not be determined.\") \n",
    "        return \"$\\\\vert P \\\\vert %s \\\\vert P^\\\\prime \\\\vert$\" % oper\n",
    "    \n",
    "    base = pgons.plot(figsize=(8,8), zorder=0, facecolor=\"w\", edgecolor=\"k\")\n",
    "    pnts.plot(ax=base, markersize=50, column=PGID, cmap=cmap)\n",
    "    \n",
    "    # polygons labeled with \"polygon_id\"\n",
    "    pgon_labels(pgons)\n",
    "    \n",
    "    # points labeled with \"point_id\" and \"polygon_id\"\n",
    "    pt_labels(pnts)\n",
    "    \n",
    "    # add title\n",
    "    add_title(title)\n",
    "    \n",
    "    # add subtitle\n",
    "    add_title(set_card(), sup=False)\n",
    "    \n",
    "    # save figure\n",
    "    if save:\n",
    "        kws = {\"bbox_inches\":\"tight\", \"format\":fmat, \"dpi\":400, \"quality\":100}\n",
    "        matplotlib.pyplot.savefig(\"%s.%s\" % (save, fmat), **kws);"
   ]
  },
  {
   "cell_type": "markdown",
   "metadata": {},
   "source": [
    "----------------------------------------\n",
    "## 2. Synthetic Data\n",
    "### Synthetic points"
   ]
  },
  {
   "cell_type": "code",
   "execution_count": 7,
   "metadata": {
    "ExecuteTime": {
     "end_time": "2020-01-22T21:56:27.731101Z",
     "start_time": "2020-01-22T21:56:27.709852Z"
    }
   },
   "outputs": [
    {
     "data": {
      "text/html": [
       "<div>\n",
       "<style scoped>\n",
       "    .dataframe tbody tr th:only-of-type {\n",
       "        vertical-align: middle;\n",
       "    }\n",
       "\n",
       "    .dataframe tbody tr th {\n",
       "        vertical-align: top;\n",
       "    }\n",
       "\n",
       "    .dataframe thead th {\n",
       "        text-align: right;\n",
       "    }\n",
       "</style>\n",
       "<table border=\"1\" class=\"dataframe\">\n",
       "  <thead>\n",
       "    <tr style=\"text-align: right;\">\n",
       "      <th></th>\n",
       "      <th>point_id</th>\n",
       "      <th>geometry</th>\n",
       "    </tr>\n",
       "  </thead>\n",
       "  <tbody>\n",
       "    <tr>\n",
       "      <th>0</th>\n",
       "      <td>A</td>\n",
       "      <td>POINT (-1.00000 -1.00000)</td>\n",
       "    </tr>\n",
       "    <tr>\n",
       "      <th>1</th>\n",
       "      <td>B</td>\n",
       "      <td>POINT (0.00000 -1.00000)</td>\n",
       "    </tr>\n",
       "    <tr>\n",
       "      <th>2</th>\n",
       "      <td>C</td>\n",
       "      <td>POINT (0.50000 -0.75000)</td>\n",
       "    </tr>\n",
       "    <tr>\n",
       "      <th>3</th>\n",
       "      <td>D</td>\n",
       "      <td>POINT (-0.50000 -0.50000)</td>\n",
       "    </tr>\n",
       "    <tr>\n",
       "      <th>4</th>\n",
       "      <td>E</td>\n",
       "      <td>POINT (0.50000 -0.50000)</td>\n",
       "    </tr>\n",
       "    <tr>\n",
       "      <th>5</th>\n",
       "      <td>F</td>\n",
       "      <td>POINT (0.00000 0.00000)</td>\n",
       "    </tr>\n",
       "    <tr>\n",
       "      <th>6</th>\n",
       "      <td>G</td>\n",
       "      <td>POINT (0.50000 0.50000)</td>\n",
       "    </tr>\n",
       "  </tbody>\n",
       "</table>\n",
       "</div>"
      ],
      "text/plain": [
       "  point_id                   geometry\n",
       "0        A  POINT (-1.00000 -1.00000)\n",
       "1        B   POINT (0.00000 -1.00000)\n",
       "2        C   POINT (0.50000 -0.75000)\n",
       "3        D  POINT (-0.50000 -0.50000)\n",
       "4        E   POINT (0.50000 -0.50000)\n",
       "5        F    POINT (0.00000 0.00000)\n",
       "6        G    POINT (0.50000 0.50000)"
      ]
     },
     "execution_count": 7,
     "metadata": {},
     "output_type": "execute_result"
    }
   ],
   "source": [
    "point_coords = [(-1,-1), (0,-1), (.5,-.75), (-.5,-.5), (.5,-.5), (0,0), (.5,.5)]\n",
    "point_ids = {PTID:list(string.ascii_uppercase[:len(point_coords)])}\n",
    "points = [Point(coords) for coords in point_coords]\n",
    "points = geopandas.GeoDataFrame(point_ids, geometry=points)\n",
    "points"
   ]
  },
  {
   "cell_type": "code",
   "execution_count": 8,
   "metadata": {
    "ExecuteTime": {
     "end_time": "2020-01-22T21:56:27.750458Z",
     "start_time": "2020-01-22T21:56:27.745715Z"
    }
   },
   "outputs": [],
   "source": [
    "n_points = points.shape[0]"
   ]
  },
  {
   "cell_type": "markdown",
   "metadata": {},
   "source": [
    "### Synthetic polygons"
   ]
  },
  {
   "cell_type": "code",
   "execution_count": 9,
   "metadata": {
    "ExecuteTime": {
     "end_time": "2020-01-22T21:56:27.773006Z",
     "start_time": "2020-01-22T21:56:27.754493Z"
    }
   },
   "outputs": [
    {
     "data": {
      "text/html": [
       "<div>\n",
       "<style scoped>\n",
       "    .dataframe tbody tr th:only-of-type {\n",
       "        vertical-align: middle;\n",
       "    }\n",
       "\n",
       "    .dataframe tbody tr th {\n",
       "        vertical-align: top;\n",
       "    }\n",
       "\n",
       "    .dataframe thead th {\n",
       "        text-align: right;\n",
       "    }\n",
       "</style>\n",
       "<table border=\"1\" class=\"dataframe\">\n",
       "  <thead>\n",
       "    <tr style=\"text-align: right;\">\n",
       "      <th></th>\n",
       "      <th>polygon_id</th>\n",
       "      <th>geometry</th>\n",
       "    </tr>\n",
       "  </thead>\n",
       "  <tbody>\n",
       "    <tr>\n",
       "      <th>0</th>\n",
       "      <td>x</td>\n",
       "      <td>POLYGON ((-1.00000 -1.00000, 0.00000 -1.00000,...</td>\n",
       "    </tr>\n",
       "    <tr>\n",
       "      <th>1</th>\n",
       "      <td>y</td>\n",
       "      <td>POLYGON ((0.00000 -1.00000, 1.00000 -1.00000, ...</td>\n",
       "    </tr>\n",
       "    <tr>\n",
       "      <th>2</th>\n",
       "      <td>z</td>\n",
       "      <td>POLYGON ((-1.00000 0.00000, 0.00000 0.00000, 0...</td>\n",
       "    </tr>\n",
       "  </tbody>\n",
       "</table>\n",
       "</div>"
      ],
      "text/plain": [
       "  polygon_id                                           geometry\n",
       "0          x  POLYGON ((-1.00000 -1.00000, 0.00000 -1.00000,...\n",
       "1          y  POLYGON ((0.00000 -1.00000, 1.00000 -1.00000, ...\n",
       "2          z  POLYGON ((-1.00000 0.00000, 0.00000 0.00000, 0..."
      ]
     },
     "execution_count": 9,
     "metadata": {},
     "output_type": "execute_result"
    }
   ],
   "source": [
    "polygon_coords = [\n",
    "    [(-1,-1), (0,-1), (0,0), (-1,0)],\n",
    "    [(0,-1), (1,-1), (1,0), (0,0)],\n",
    "    [(-1,0), (0,0), (0,1), (-1,1)]\n",
    "]\n",
    "polygons = [Polygon(coords) for coords in polygon_coords]\n",
    "polygon_ids = {PGID:list(string.ascii_lowercase[-len(polygon_coords):])}\n",
    "polygons = geopandas.GeoDataFrame(polygon_ids, geometry=polygons)\n",
    "polygons"
   ]
  },
  {
   "cell_type": "markdown",
   "metadata": {},
   "source": [
    "----------------------------------------------------\n",
    "## 3. Perform left spatial join and plot — `within`\n",
    "**The issue with a `within` operation is a point that exactly intersects a polygon exterior (`touch`) is not contained in the polygon and, therefore, not included in the spatial join.**"
   ]
  },
  {
   "cell_type": "code",
   "execution_count": 10,
   "metadata": {
    "ExecuteTime": {
     "end_time": "2020-01-22T21:56:27.823891Z",
     "start_time": "2020-01-22T21:56:27.780154Z"
    }
   },
   "outputs": [
    {
     "data": {
      "text/html": [
       "<div>\n",
       "<style scoped>\n",
       "    .dataframe tbody tr th:only-of-type {\n",
       "        vertical-align: middle;\n",
       "    }\n",
       "\n",
       "    .dataframe tbody tr th {\n",
       "        vertical-align: top;\n",
       "    }\n",
       "\n",
       "    .dataframe thead th {\n",
       "        text-align: right;\n",
       "    }\n",
       "</style>\n",
       "<table border=\"1\" class=\"dataframe\">\n",
       "  <thead>\n",
       "    <tr style=\"text-align: right;\">\n",
       "      <th></th>\n",
       "      <th>point_id</th>\n",
       "      <th>polygon_id</th>\n",
       "      <th>geometry</th>\n",
       "    </tr>\n",
       "  </thead>\n",
       "  <tbody>\n",
       "    <tr>\n",
       "      <th>0</th>\n",
       "      <td>A</td>\n",
       "      <td>NaN</td>\n",
       "      <td>POINT (-1.00000 -1.00000)</td>\n",
       "    </tr>\n",
       "    <tr>\n",
       "      <th>1</th>\n",
       "      <td>B</td>\n",
       "      <td>NaN</td>\n",
       "      <td>POINT (0.00000 -1.00000)</td>\n",
       "    </tr>\n",
       "    <tr>\n",
       "      <th>2</th>\n",
       "      <td>C</td>\n",
       "      <td>y</td>\n",
       "      <td>POINT (0.50000 -0.75000)</td>\n",
       "    </tr>\n",
       "    <tr>\n",
       "      <th>3</th>\n",
       "      <td>D</td>\n",
       "      <td>x</td>\n",
       "      <td>POINT (-0.50000 -0.50000)</td>\n",
       "    </tr>\n",
       "    <tr>\n",
       "      <th>4</th>\n",
       "      <td>E</td>\n",
       "      <td>y</td>\n",
       "      <td>POINT (0.50000 -0.50000)</td>\n",
       "    </tr>\n",
       "    <tr>\n",
       "      <th>5</th>\n",
       "      <td>F</td>\n",
       "      <td>NaN</td>\n",
       "      <td>POINT (0.00000 0.00000)</td>\n",
       "    </tr>\n",
       "    <tr>\n",
       "      <th>6</th>\n",
       "      <td>G</td>\n",
       "      <td>NaN</td>\n",
       "      <td>POINT (0.50000 0.50000)</td>\n",
       "    </tr>\n",
       "  </tbody>\n",
       "</table>\n",
       "</div>"
      ],
      "text/plain": [
       "  point_id polygon_id                   geometry\n",
       "0        A        NaN  POINT (-1.00000 -1.00000)\n",
       "1        B        NaN   POINT (0.00000 -1.00000)\n",
       "2        C          y   POINT (0.50000 -0.75000)\n",
       "3        D          x  POINT (-0.50000 -0.50000)\n",
       "4        E          y   POINT (0.50000 -0.50000)\n",
       "5        F        NaN    POINT (0.00000 0.00000)\n",
       "6        G        NaN    POINT (0.50000 0.50000)"
      ]
     },
     "execution_count": 10,
     "metadata": {},
     "output_type": "execute_result"
    }
   ],
   "source": [
    "within_df = do_sjoin(points, polygons, WITHIN)\n",
    "within_df"
   ]
  },
  {
   "cell_type": "code",
   "execution_count": 11,
   "metadata": {
    "ExecuteTime": {
     "end_time": "2020-01-22T21:56:29.683689Z",
     "start_time": "2020-01-22T21:56:27.826952Z"
    }
   },
   "outputs": [
    {
     "data": {
      "image/png": "[encoded data removed]",
      "text/plain": [
       "<Figure size 576x576 with 1 Axes>"
      ]
     },
     "metadata": {
      "needs_background": "light"
     },
     "output_type": "display_data"
    }
   ],
   "source": [
    "plot_join(within_df, polygons, WITHIN, n_points, save=WITHIN)"
   ]
  },
  {
   "cell_type": "markdown",
   "metadata": {},
   "source": [
    "-------------------------\n",
    "## 4. Perform left spatial join and plot — `intersects`\n",
    "**The issue with an `intersects` operation is a point that exactly intersects multiple polygon exteriors (`touch`) is duplicated for each polygon it intersects and, thus, increases the set cardinality.**"
   ]
  },
  {
   "cell_type": "code",
   "execution_count": 12,
   "metadata": {
    "ExecuteTime": {
     "end_time": "2020-01-22T21:56:29.730930Z",
     "start_time": "2020-01-22T21:56:29.687476Z"
    }
   },
   "outputs": [
    {
     "data": {
      "text/html": [
       "<div>\n",
       "<style scoped>\n",
       "    .dataframe tbody tr th:only-of-type {\n",
       "        vertical-align: middle;\n",
       "    }\n",
       "\n",
       "    .dataframe tbody tr th {\n",
       "        vertical-align: top;\n",
       "    }\n",
       "\n",
       "    .dataframe thead th {\n",
       "        text-align: right;\n",
       "    }\n",
       "</style>\n",
       "<table border=\"1\" class=\"dataframe\">\n",
       "  <thead>\n",
       "    <tr style=\"text-align: right;\">\n",
       "      <th></th>\n",
       "      <th>point_id</th>\n",
       "      <th>polygon_id</th>\n",
       "      <th>geometry</th>\n",
       "    </tr>\n",
       "  </thead>\n",
       "  <tbody>\n",
       "    <tr>\n",
       "      <th>0</th>\n",
       "      <td>A</td>\n",
       "      <td>x</td>\n",
       "      <td>POINT (-1.00000 -1.00000)</td>\n",
       "    </tr>\n",
       "    <tr>\n",
       "      <th>1</th>\n",
       "      <td>B</td>\n",
       "      <td>x</td>\n",
       "      <td>POINT (0.00000 -1.00000)</td>\n",
       "    </tr>\n",
       "    <tr>\n",
       "      <th>1</th>\n",
       "      <td>B</td>\n",
       "      <td>y</td>\n",
       "      <td>POINT (0.00000 -1.00000)</td>\n",
       "    </tr>\n",
       "    <tr>\n",
       "      <th>2</th>\n",
       "      <td>C</td>\n",
       "      <td>y</td>\n",
       "      <td>POINT (0.50000 -0.75000)</td>\n",
       "    </tr>\n",
       "    <tr>\n",
       "      <th>3</th>\n",
       "      <td>D</td>\n",
       "      <td>x</td>\n",
       "      <td>POINT (-0.50000 -0.50000)</td>\n",
       "    </tr>\n",
       "    <tr>\n",
       "      <th>4</th>\n",
       "      <td>E</td>\n",
       "      <td>y</td>\n",
       "      <td>POINT (0.50000 -0.50000)</td>\n",
       "    </tr>\n",
       "    <tr>\n",
       "      <th>5</th>\n",
       "      <td>F</td>\n",
       "      <td>x</td>\n",
       "      <td>POINT (0.00000 0.00000)</td>\n",
       "    </tr>\n",
       "    <tr>\n",
       "      <th>5</th>\n",
       "      <td>F</td>\n",
       "      <td>y</td>\n",
       "      <td>POINT (0.00000 0.00000)</td>\n",
       "    </tr>\n",
       "    <tr>\n",
       "      <th>5</th>\n",
       "      <td>F</td>\n",
       "      <td>z</td>\n",
       "      <td>POINT (0.00000 0.00000)</td>\n",
       "    </tr>\n",
       "    <tr>\n",
       "      <th>6</th>\n",
       "      <td>G</td>\n",
       "      <td>NaN</td>\n",
       "      <td>POINT (0.50000 0.50000)</td>\n",
       "    </tr>\n",
       "  </tbody>\n",
       "</table>\n",
       "</div>"
      ],
      "text/plain": [
       "  point_id polygon_id                   geometry\n",
       "0        A          x  POINT (-1.00000 -1.00000)\n",
       "1        B          x   POINT (0.00000 -1.00000)\n",
       "1        B          y   POINT (0.00000 -1.00000)\n",
       "2        C          y   POINT (0.50000 -0.75000)\n",
       "3        D          x  POINT (-0.50000 -0.50000)\n",
       "4        E          y   POINT (0.50000 -0.50000)\n",
       "5        F          x    POINT (0.00000 0.00000)\n",
       "5        F          y    POINT (0.00000 0.00000)\n",
       "5        F          z    POINT (0.00000 0.00000)\n",
       "6        G        NaN    POINT (0.50000 0.50000)"
      ]
     },
     "execution_count": 12,
     "metadata": {},
     "output_type": "execute_result"
    }
   ],
   "source": [
    "intersects_df = do_sjoin(points, polygons, INTERSECTS)\n",
    "intersects_df"
   ]
  },
  {
   "cell_type": "code",
   "execution_count": 13,
   "metadata": {
    "ExecuteTime": {
     "end_time": "2020-01-22T21:56:31.229724Z",
     "start_time": "2020-01-22T21:56:29.734611Z"
    }
   },
   "outputs": [
    {
     "data": {
      "image/png": "[encoded data removed]",
      "text/plain": [
       "<Figure size 576x576 with 1 Axes>"
      ]
     },
     "metadata": {
      "needs_background": "light"
     },
     "output_type": "display_data"
    }
   ],
   "source": [
    "plot_join(intersects_df, polygons, INTERSECTS, n_points, save=INTERSECTS)"
   ]
  },
  {
   "cell_type": "markdown",
   "metadata": {},
   "source": [
    "-------------------------------------\n",
    "## 5. Solution: a non-duplicated intersects operation\n",
    "### This method has two benefits:\n",
    "* **polygon attribute values are squashed into one label, which can be extracted later; and**\n",
    "* **the set cardinality of the original dataset is preserved**"
   ]
  },
  {
   "cell_type": "code",
   "execution_count": 14,
   "metadata": {
    "ExecuteTime": {
     "end_time": "2020-01-22T21:56:31.303676Z",
     "start_time": "2020-01-22T21:56:31.237579Z"
    }
   },
   "outputs": [
    {
     "data": {
      "text/html": [
       "<div>\n",
       "<style scoped>\n",
       "    .dataframe tbody tr th:only-of-type {\n",
       "        vertical-align: middle;\n",
       "    }\n",
       "\n",
       "    .dataframe tbody tr th {\n",
       "        vertical-align: top;\n",
       "    }\n",
       "\n",
       "    .dataframe thead th {\n",
       "        text-align: right;\n",
       "    }\n",
       "</style>\n",
       "<table border=\"1\" class=\"dataframe\">\n",
       "  <thead>\n",
       "    <tr style=\"text-align: right;\">\n",
       "      <th></th>\n",
       "      <th>point_id</th>\n",
       "      <th>polygon_id</th>\n",
       "      <th>geometry</th>\n",
       "    </tr>\n",
       "  </thead>\n",
       "  <tbody>\n",
       "    <tr>\n",
       "      <th>0</th>\n",
       "      <td>A</td>\n",
       "      <td>x</td>\n",
       "      <td>POINT (-1.00000 -1.00000)</td>\n",
       "    </tr>\n",
       "    <tr>\n",
       "      <th>1</th>\n",
       "      <td>B</td>\n",
       "      <td>x-y</td>\n",
       "      <td>POINT (0.00000 -1.00000)</td>\n",
       "    </tr>\n",
       "    <tr>\n",
       "      <th>2</th>\n",
       "      <td>C</td>\n",
       "      <td>y</td>\n",
       "      <td>POINT (0.50000 -0.75000)</td>\n",
       "    </tr>\n",
       "    <tr>\n",
       "      <th>3</th>\n",
       "      <td>D</td>\n",
       "      <td>x</td>\n",
       "      <td>POINT (-0.50000 -0.50000)</td>\n",
       "    </tr>\n",
       "    <tr>\n",
       "      <th>4</th>\n",
       "      <td>E</td>\n",
       "      <td>y</td>\n",
       "      <td>POINT (0.50000 -0.50000)</td>\n",
       "    </tr>\n",
       "    <tr>\n",
       "      <th>5</th>\n",
       "      <td>F</td>\n",
       "      <td>x-y-z</td>\n",
       "      <td>POINT (0.00000 0.00000)</td>\n",
       "    </tr>\n",
       "    <tr>\n",
       "      <th>6</th>\n",
       "      <td>G</td>\n",
       "      <td>NaN</td>\n",
       "      <td>POINT (0.50000 0.50000)</td>\n",
       "    </tr>\n",
       "  </tbody>\n",
       "</table>\n",
       "</div>"
      ],
      "text/plain": [
       "  point_id polygon_id                   geometry\n",
       "0        A          x  POINT (-1.00000 -1.00000)\n",
       "1        B        x-y   POINT (0.00000 -1.00000)\n",
       "2        C          y   POINT (0.50000 -0.75000)\n",
       "3        D          x  POINT (-0.50000 -0.50000)\n",
       "4        E          y   POINT (0.50000 -0.50000)\n",
       "5        F      x-y-z    POINT (0.00000 0.00000)\n",
       "6        G        NaN    POINT (0.50000 0.50000)"
      ]
     },
     "execution_count": 14,
     "metadata": {},
     "output_type": "execute_result"
    }
   ],
   "source": [
    "nd_intersects_df = nd_intersects(points, polygons)\n",
    "nd_intersects_df"
   ]
  },
  {
   "cell_type": "code",
   "execution_count": 15,
   "metadata": {
    "ExecuteTime": {
     "end_time": "2020-01-22T21:56:32.827651Z",
     "start_time": "2020-01-22T21:56:31.307424Z"
    }
   },
   "outputs": [
    {
     "data": {
      "image/png": "[encoded data removed]",
      "text/plain": [
       "<Figure size 576x576 with 1 Axes>"
      ]
     },
     "metadata": {
      "needs_background": "light"
     },
     "output_type": "display_data"
    }
   ],
   "source": [
    "plt_title = \"nd-%s\" % INTERSECTS\n",
    "plot_join(nd_intersects_df, polygons, plt_title, n_points, save=plt_title)"
   ]
  },
  {
   "cell_type": "markdown",
   "metadata": {},
   "source": [
    "------------------"
   ]
  }
 ],
 "metadata": {
  "kernelspec": {
   "display_name": "Python [conda env:py3_spgh_dev]",
   "language": "python",
   "name": "conda-env-py3_spgh_dev-py"
  },
  "language_info": {
   "codemirror_mode": {
    "name": "ipython",
    "version": 3
   },
   "file_extension": ".py",
   "mimetype": "text/x-python",
   "name": "python",
   "nbconvert_exporter": "python",
   "pygments_lexer": "ipython3",
   "version": "3.7.3"
  }
 },
 "nbformat": 4,
 "nbformat_minor": 2
}
